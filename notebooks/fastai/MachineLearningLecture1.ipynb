{
 "cells": [
  {
   "cell_type": "code",
   "execution_count": 20,
   "metadata": {},
   "outputs": [
    {
     "name": "stdout",
     "output_type": "stream",
     "text": [
      "/home/jovyan/notebooks/fastai\n",
      "Machine_Appendix.csv\t\t  Test.csv\t     Valid.csv\n",
      "median_benchmark.csv\t\t  TrainAndValid.csv  ValidSolution.csv\n",
      "random_forest_benchmark_test.csv  Train.csv\n"
     ]
    }
   ],
   "source": [
    "# Load data set from file \n",
    "PATH = '/home/jovyan/data/bulldozers'\n",
    "\n",
    "!pwd\n",
    "import os\n",
    "\n",
    "\n",
    "!ls {PATH}\n"
   ]
  },
  {
   "cell_type": "code",
   "execution_count": null,
   "metadata": {},
   "outputs": [],
   "source": []
  }
 ],
 "metadata": {
  "kernelspec": {
   "display_name": "Python 3",
   "language": "python",
   "name": "python3"
  },
  "language_info": {
   "codemirror_mode": {
    "name": "ipython",
    "version": 3
   },
   "file_extension": ".py",
   "mimetype": "text/x-python",
   "name": "python",
   "nbconvert_exporter": "python",
   "pygments_lexer": "ipython3",
   "version": "3.6.5"
  }
 },
 "nbformat": 4,
 "nbformat_minor": 2
}
